{
 "cells": [
  {
   "cell_type": "markdown",
   "id": "089d11cc",
   "metadata": {},
   "source": [
    "# Seminario Python - Clase 2\n",
    "- Listas\n",
    "- Tuplas\n",
    "- Diccionarios"
   ]
  },
  {
   "cell_type": "markdown",
   "id": "931fa9c3",
   "metadata": {},
   "source": [
    "## Listas\n",
    "- Una __lista__ es una colección ordenada  de elementos.\n",
    "- Las listas son estructuras heterogéneas, es decir que pueden contener cualquier tipo de datos, inclusive otras listas.\n",
    "- Se accede a través de un índice que indica la posición del elemento dentro de la lista encerrado entre corchetes __[]__.\n",
    "<br>__IMPORTANTE:__ al igual que las cadenas los índices comienzan en 0.\n",
    "- Las listas son datos __MUTABLES__.\n",
    "- Recordemos que las variables son referencias a objetos. (Cuidado al asignar, porque referencian al mismo objeto)"
   ]
  },
  {
   "cell_type": "code",
   "execution_count": 2,
   "id": "6749040f",
   "metadata": {
    "scrolled": true
   },
   "outputs": [
    {
     "data": {
      "text/plain": [
       "[152, 161, 142, 157, 138, 153, 146, 130]"
      ]
     },
     "execution_count": 2,
     "metadata": {},
     "output_type": "execute_result"
    }
   ],
   "source": [
    "# Declaracion\n",
    "duracion_pelis = [152, 161, 142, 157, 138, 153, 146, 130]\n",
    "duracion_pelis"
   ]
  },
  {
   "cell_type": "code",
   "execution_count": 3,
   "id": "9d6596dd",
   "metadata": {},
   "outputs": [
    {
     "data": {
      "text/plain": [
       "[1, 'dos', [3, 'cuatro'], True]"
      ]
     },
     "execution_count": 3,
     "metadata": {},
     "output_type": "execute_result"
    }
   ],
   "source": [
    "# Heterogeneidad\n",
    "varios = [1, \"dos\", [3, \"cuatro\"], True]\n",
    "varios"
   ]
  },
  {
   "cell_type": "code",
   "execution_count": 5,
   "id": "8e02f8f7",
   "metadata": {},
   "outputs": [
    {
     "name": "stdout",
     "output_type": "stream",
     "text": [
      "17\n",
      "dos\n",
      "[1, 'dos']\n"
     ]
    }
   ],
   "source": [
    "# Acceso\n",
    "varios = [ 17, \"hola\", [1, \"dos\"], 5.5, True] \n",
    "print(varios[0])\n",
    "print(varios[2][1] )\n",
    "print(varios[-3])"
   ]
  },
  {
   "cell_type": "code",
   "execution_count": 7,
   "id": "b44b5c1a",
   "metadata": {},
   "outputs": [
    {
     "name": "stdout",
     "output_type": "stream",
     "text": [
      "17\n",
      "hola\n",
      "[1, 'dos']\n",
      "5.5\n",
      "True\n"
     ]
    }
   ],
   "source": [
    "# Recorrer\n",
    "for elem in varios:\n",
    "    print(elem)"
   ]
  },
  {
   "cell_type": "code",
   "execution_count": 11,
   "id": "6868c7c2",
   "metadata": {},
   "outputs": [
    {
     "name": "stdout",
     "output_type": "stream",
     "text": [
      "['e', 'i']\n"
     ]
    }
   ],
   "source": [
    "# Métodos\n",
    "len(varios)\n",
    "\n",
    "# Agregar elementos\n",
    "lista = [\"Leo\", 10]\n",
    "lista.append(\"Dibu\")\n",
    "lista.append(23)\n",
    "lista\n",
    "\n",
    "# Slicing Listas\n",
    "vocales = [ \"a\", \"e\",\"i\", \"o\", \"u\"] \n",
    "print(vocales[1:3])"
   ]
  }
 ],
 "metadata": {
  "kernelspec": {
   "display_name": "Python 3 (ipykernel)",
   "language": "python",
   "name": "python3"
  },
  "language_info": {
   "codemirror_mode": {
    "name": "ipython",
    "version": 3
   },
   "file_extension": ".py",
   "mimetype": "text/x-python",
   "name": "python",
   "nbconvert_exporter": "python",
   "pygments_lexer": "ipython3",
   "version": "3.11.2"
  }
 },
 "nbformat": 4,
 "nbformat_minor": 5
}
