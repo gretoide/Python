{
 "cells": [
  {
   "cell_type": "markdown",
   "id": "ab931747",
   "metadata": {},
   "source": [
    "# Seminario Python - Clase 1"
   ]
  },
  {
   "cell_type": "markdown",
   "id": "bb8317ac",
   "metadata": {},
   "source": [
    "## Operaciones básicas"
   ]
  },
  {
   "cell_type": "markdown",
   "id": "bc75966c",
   "metadata": {},
   "source": [
    "### Tipos de Datos \n",
    "* Float\n",
    "* Bool\n",
    "* Int\n",
    "* Str\n"
   ]
  },
  {
   "cell_type": "code",
   "execution_count": 22,
   "id": "b49cfd16",
   "metadata": {},
   "outputs": [
    {
     "name": "stdout",
     "output_type": "stream",
     "text": [
      "<class 'float'>\n",
      "<class 'bool'>\n",
      "<class 'int'>\n",
      "<class 'str'>\n"
     ]
    }
   ],
   "source": [
    "a = 1.5\n",
    "print(type(a))\n",
    "\n",
    "b = True\n",
    "print(type(b))\n",
    "\n",
    "c = 1\n",
    "print(type(c))\n",
    "\n",
    "d = \"Probando\"\n",
    "print(type(d))"
   ]
  },
  {
   "cell_type": "markdown",
   "id": "557518c0",
   "metadata": {},
   "source": [
    "### Conversiones implicitas"
   ]
  },
  {
   "cell_type": "code",
   "execution_count": 17,
   "id": "d9759d84",
   "metadata": {},
   "outputs": [
    {
     "name": "stdout",
     "output_type": "stream",
     "text": [
      "<class 'float'>\n",
      "<class 'int'>\n"
     ]
    }
   ],
   "source": [
    "# Resulta un float \n",
    "mitad = 10 / 2\n",
    "print(type(mitad))\n",
    "\n",
    "# Resulta un Int\n",
    "mitad = int(10 / 2)\n",
    "print(type(mitad))"
   ]
  },
  {
   "cell_type": "markdown",
   "id": "808bf6a4",
   "metadata": {},
   "source": [
    "### Cadenas de Caracteres\n",
    "* Concatenación __+__\n",
    "* Repetición __*__\n",
    "* Longitud de la cadena __len()__\n",
    "* Subcadenas __Slicing__\n",
    "* Cadenas con __formato__\n",
    "    - *cadena.format(argumentos)*\n",
    "* f-String\n",
    "* Módulo String\n",
    "* Operador __in__\n",
    "\n",
    "\n",
    "#### Características\n",
    "* Las cadenas son __INMUTABLES__.\n",
    "* Como en Python todos son objetos, cuentan con sus **propiedades y métodos**.\n",
    "    - *objeto.propiedad* \n",
    "    - *objeto.metodo()*\n",
    "\n",
    "#### Slicing\n",
    "- Permite índices negativos\n",
    "- El operador **:** permite obtener subcadenas. Esto se denomina **slicing**.\n",
    "- El formato es **cadena[inicio:fin]**\n",
    "- NO incluye al elemento cuyo índice es **fin**.\n",
    "- **[:]** devuelve  toda la cadena.\n",
    "- **Si los índices son negativos, se recorre de derecha a izquierda.**"
   ]
  },
  {
   "cell_type": "code",
   "execution_count": 24,
   "id": "56d8e346",
   "metadata": {},
   "outputs": [
    {
     "name": "stdout",
     "output_type": "stream",
     "text": [
      "Python es lo más!\n",
      "Python Python Python Python Python \n",
      "7\n"
     ]
    }
   ],
   "source": [
    "#nConcatenación, multiplicación y longitud\n",
    "\n",
    "cadena = \"Python \"\n",
    "otra_cadena = \"es lo más!\"\n",
    "print(cadena + otra_cadena)\n",
    "print(cadena * 5)\n",
    "print(len(cadena))"
   ]
  },
  {
   "cell_type": "code",
   "execution_count": 2,
   "id": "f39b1577",
   "metadata": {},
   "outputs": [
    {
     "name": "stdout",
     "output_type": "stream",
     "text": [
      "o\n",
      "hon\n",
      "Python\n"
     ]
    }
   ],
   "source": [
    "# Subcadenas y Slicing\n",
    "cadena = \"Python\"\n",
    "print(cadena[-2])\n",
    "print(cadena[3:])\n",
    "print(cadena[:])\n"
   ]
  },
  {
   "cell_type": "code",
   "execution_count": 12,
   "id": "1ca86934",
   "metadata": {},
   "outputs": [
    {
     "name": "stdout",
     "output_type": "stream",
     "text": [
      "PYTHON ES LO MÁS!\n"
     ]
    }
   ],
   "source": [
    "# Métodos sobre cadenas\n",
    "cadena = \"python es lo más!\"\n",
    "print(cadena.upper())\n",
    "#cadena.lower()\n",
    "#cadena.islower()\n",
    "#pcadena.isupper()"
   ]
  },
  {
   "cell_type": "code",
   "execution_count": 24,
   "id": "2ba97ad6",
   "metadata": {},
   "outputs": [
    {
     "name": "stdout",
     "output_type": "stream",
     "text": [
      "6\n",
      "*******************Somos campeones del mundo!!!!!!********************\n"
     ]
    },
    {
     "data": {
      "text/plain": [
       "['Somos', 'campeones', 'del', 'mundo!!!']"
      ]
     },
     "execution_count": 24,
     "metadata": {},
     "output_type": "execute_result"
    }
   ],
   "source": [
    "# Métodos útiles\n",
    "cadena = \"Somos campeones del mundo!!!!!!\"\n",
    "print(cadena.count(\"!\"))\n",
    "\n",
    "print(cadena.center(70, \"*\"))\n",
    "\n",
    "cadena = \"_caminar\"\n",
    "#cadena.startswith(\"2\")\n",
    "cadena.endswith((\"ar\", \"ers\", \"ir\"))\n",
    "\n",
    "\"Somos campeones del  mundo!!!\".split()"
   ]
  },
  {
   "cell_type": "markdown",
   "id": "780084ab",
   "metadata": {},
   "source": [
    "### Cadenas con formato\n",
    "- Es posible definir cadenas con determinados formatos utilizando el método **format**."
   ]
  },
  {
   "cell_type": "code",
   "execution_count": 29,
   "id": "5a216127",
   "metadata": {},
   "outputs": [
    {
     "name": "stdout",
     "output_type": "stream",
     "text": [
      "Hola Lionel !!! Ganaste! y necesitaste 5 intentos!!!\n"
     ]
    }
   ],
   "source": [
    "cantidad = 5\n",
    "print('Hola {} !!! Ganaste! y necesitaste {} intentos!!!'.format(\"Lionel\", cantidad))"
   ]
  },
  {
   "cell_type": "code",
   "execution_count": 38,
   "id": "ad274859",
   "metadata": {},
   "outputs": [
    {
     "name": "stdout",
     "output_type": "stream",
     "text": [
      "1 1 1\n",
      "2 4 8\n",
      "3 9 27\n"
     ]
    }
   ],
   "source": [
    "for num in \"123\":\n",
    "    x = int(num)\n",
    "    print(\"{0:0d} {1:1d} {2:1d}\".format(x, x*x, x*x*x))"
   ]
  },
  {
   "cell_type": "code",
   "execution_count": 41,
   "id": "a4b398ac",
   "metadata": {},
   "outputs": [
    {
     "name": "stdout",
     "output_type": "stream",
     "text": [
      "En Argentina nací\n",
      "Tierra del Diego y Lionel\n",
      "De los pibes de Malvinas\n",
      "Que jamás olvidaré.\n",
      "La mejor canción de todas:\n",
      "En Argentina nací             \n",
      "                         Tierra del Diego y Lionel\n",
      "\n",
      "   De los pibes de Malvinas   \n",
      "\n",
      "***************Que jamás olvidaré.****************\n"
     ]
    }
   ],
   "source": [
    "cad1 = \"En Argentina nací\"\n",
    "cad2 = \"Tierra del Diego y Lionel\"\n",
    "cad3 = \"De los pibes de Malvinas\"\n",
    "cad4 = \"Que jamás olvidaré.\"\n",
    "\n",
    "print(cad1)\n",
    "print(cad2)\n",
    "print(cad3)\n",
    "print(cad4)\n",
    "\n",
    "print(f\"La mejor canción de todas:\\n{cad1:<30}\\n{cad2:>50}\")\n",
    "print(f\"\\n{cad3:^30}\")\n",
    "print(f\"\\n{cad4:*^50}\")"
   ]
  },
  {
   "cell_type": "markdown",
   "id": "df9c3b04",
   "metadata": {},
   "source": [
    "## Operador in\n",
    "- Este operador retorna True o False de acuerdo a si un elemento está en una colección o no. \n",
    "- Las cadenas de caracteres son **secuencias de caracteres** por lo que puede utilizarse este operador."
   ]
  },
  {
   "cell_type": "code",
   "execution_count": 27,
   "id": "9c5b7bdc",
   "metadata": {},
   "outputs": [
    {
     "name": "stdout",
     "output_type": "stream",
     "text": [
      "Ingresá una palabra: Alfombra\n",
      "Hay letras a o A.\n"
     ]
    }
   ],
   "source": [
    "palabra = input(\"Ingresá una palabra: \")\n",
    "if (\"a\" or \"A\") in palabra:\n",
    "    print(\"Hay letras a o A.\")\n",
    "else:\n",
    "    print(\"No hay letras a o A. \")"
   ]
  },
  {
   "cell_type": "markdown",
   "id": "d9ce9798",
   "metadata": {},
   "source": [
    "### Función range()\n",
    "- Esta función devuelve una secuencia de números enteros.\n",
    "\n",
    "- Puede tener de 1 a 3 argumentos: \n",
    "```python\n",
    "range(valor_inicial, valor_final, paso)\n",
    "```\n",
    "\n",
    "- Es posible invocarla con uno, dos o los tres argumentos."
   ]
  },
  {
   "cell_type": "code",
   "execution_count": 43,
   "id": "dc5335e4",
   "metadata": {},
   "outputs": [
    {
     "name": "stdout",
     "output_type": "stream",
     "text": [
      "4-7-10-13-16-19-22-"
     ]
    }
   ],
   "source": [
    "# Demostracion\n",
    "for i in range(4, 23, 3):\n",
    "    print(i, end=\"-\")"
   ]
  },
  {
   "cell_type": "code",
   "execution_count": 44,
   "id": "125059a8",
   "metadata": {},
   "outputs": [
    {
     "name": "stdout",
     "output_type": "stream",
     "text": [
      "Ingresa una palabra: pedo\n",
      "Ingresa una palabra: r\n",
      "r\n",
      "Ingresa una palabra: raton\n",
      "raton\n",
      "Ingresa una palabra: pedo\n"
     ]
    }
   ],
   "source": [
    " for i in range(4):\n",
    "    cadena = input(\"Ingresa una palabra: \")\n",
    "    if \"r\" in cadena:\n",
    "        print(cadena)"
   ]
  }
 ],
 "metadata": {
  "kernelspec": {
   "display_name": "Python 3 (ipykernel)",
   "language": "python",
   "name": "python3"
  },
  "language_info": {
   "codemirror_mode": {
    "name": "ipython",
    "version": 3
   },
   "file_extension": ".py",
   "mimetype": "text/x-python",
   "name": "python",
   "nbconvert_exporter": "python",
   "pygments_lexer": "ipython3",
   "version": "3.11.2"
  }
 },
 "nbformat": 4,
 "nbformat_minor": 5
}
