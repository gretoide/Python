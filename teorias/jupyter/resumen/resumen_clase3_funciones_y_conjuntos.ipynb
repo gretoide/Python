{
 "cells": [
  {
   "cell_type": "markdown",
   "id": "a364b339",
   "metadata": {},
   "source": [
    "# Clase 3 - Conjuntos y Funciones"
   ]
  },
  {
   "cell_type": "markdown",
   "id": "968bd632",
   "metadata": {},
   "source": [
    "\n",
    "\n",
    "## Funciones\n",
    " Podemos definir nuestras propias funciones \n",
    "\n",
    "```python\n",
    "\tdef nombre_funcion(parametros):\n",
    "\t\tsentencias\n",
    "\t\treturn <expresion>\n",
    "```\n",
    "- **IMPORTANTE:** el cuerpo de la función debe estar **indentado**.\n",
    "- Cuando pasamos un parámetro a una función, pasamos una copia de la referencia al objeto pasado\n",
    "- Si hay más de un argumento, los que tienen valores por defecto siempre van al final de la lista de parámetros.\n",
    "- Los parámetros formales y reales se asocian de acuerdo al orden posicional, pero invocar a la función con los parámetros en otro orden pero nombrando al parámetro"
   ]
  },
  {
   "cell_type": "code",
   "execution_count": 13,
   "id": "8eed479c",
   "metadata": {},
   "outputs": [
    {
     "name": "stdout",
     "output_type": "stream",
     "text": [
      "10\n",
      "20\n"
     ]
    }
   ],
   "source": [
    "# No es indispensable el return\n",
    "def demo_funcion_sin_return():\n",
    "    var = 10\n",
    "    print(var)\n",
    "demo_funcion_sin_return()\n",
    "\n",
    "def function_with_return():\n",
    "    var = 20\n",
    "    return print(var)\n",
    "\n",
    "function_with_return()"
   ]
  },
  {
   "cell_type": "markdown",
   "id": "87220997",
   "metadata": {},
   "source": [
    "# docString\n",
    "Es una secuencia de caracteres que describe la función.\n",
    "Se sugiere siempre utilizar triples comillas \n",
    "```python\n",
    "\"\"\"docString\"\"\"\n",
    "```\n",
    "Son procesados por el intérprete."
   ]
  },
  {
   "cell_type": "code",
   "execution_count": 14,
   "id": "7d9b86d7",
   "metadata": {},
   "outputs": [
    {
     "name": "stdout",
     "output_type": "stream",
     "text": [
      "Help on built-in function print in module builtins:\n",
      "\n",
      "print(*args, sep=' ', end='\\n', file=None, flush=False)\n",
      "    Prints the values to a stream, or to sys.stdout by default.\n",
      "    \n",
      "    sep\n",
      "      string inserted between values, default a space.\n",
      "    end\n",
      "      string appended after the last value, default a newline.\n",
      "    file\n",
      "      a file-like object (stream); defaults to the current sys.stdout.\n",
      "    flush\n",
      "      whether to forcibly flush the stream.\n",
      "\n"
     ]
    }
   ],
   "source": [
    "help(print)"
   ]
  },
  {
   "cell_type": "markdown",
   "id": "6b4e84cf",
   "metadata": {},
   "source": [
    "## Pasaje de parámetros\n",
    "- Cuando pasamos un parámetro a una función, pasamos una copia de la referencia al objeto pasado"
   ]
  },
  {
   "cell_type": "code",
   "execution_count": 15,
   "id": "a2119996",
   "metadata": {
    "scrolled": true
   },
   "outputs": [
    {
     "name": "stdout",
     "output_type": "stream",
     "text": [
      "El valor de param al ingresar a la función parametros_colecciones es [100, 200, 300]\n",
      "El valor de param en la función parametros_colecciones es ['cero', 200, 300]\n",
      "Luego de invocar a la función el valor de lista es [100, 200, 300]\n"
     ]
    }
   ],
   "source": [
    "def proceso_parametros_colecciones_1(param):\n",
    "    \"\"\"Esta función actualiza la primera posición de la colección recibida como parámetro.\"\"\"\n",
    "\n",
    "    mi_lista = param[:]\n",
    "    print(f\"El valor de param al ingresar a la función parametros_colecciones es {mi_lista}\")\n",
    "    mi_lista[0] = \"cero\"\n",
    "    print(f\"El valor de param en la función parametros_colecciones es {mi_lista}\")\n",
    "\n",
    "lista = [100, 200, 300]\n",
    "proceso_parametros_colecciones_1(lista)\n",
    "print(f\"Luego de invocar a la función el valor de lista es {lista}\")"
   ]
  },
  {
   "cell_type": "markdown",
   "id": "b463a060",
   "metadata": {},
   "source": [
    "Slide Type Fragment\n",
    "En realidad podemos utilizar el slicing como secuencia[i:j:k]\n",
    "\n",
    "donde:\n",
    "\n",
    "- __i:__ representa el límite inferior para comenzar,\n",
    "- __j:__ la posición hasta donde queremos incluir elementos\n",
    "- __k:__ cada cuántos valores queremos que nos muestre, o sea, el salto de un elemento al siguiente.\n",
    "```python\n",
    "como_recorro = \"invertido\"\n",
    "def muestro_cadena(cadena, orden=como_recorro):\n",
    "    \"\"\" Esta función retorna la cadena de acuerdo al parámetro orden \"\"\"\n",
    "    \n",
    "    return cadena[::-1] if orden == \"invertido\" else cadena[:]\n",
    "\n",
    "muestro_cadena(\"Hola\")\n",
    "```"
   ]
  },
  {
   "cell_type": "markdown",
   "id": "4495b0aa",
   "metadata": {},
   "source": [
    "## Conjuntos \n",
    "- Un conjunto es una colección de datos heterogéna, **desordenada**, **NO indexada** y **sin elementos duplicados**.\n",
    "- Se recorren de igual manera que otras colecciones\n",
    "- Para copiar conjuntos podemos usar la sentencia de asignación o usando **copy()**."
   ]
  },
  {
   "cell_type": "code",
   "execution_count": 25,
   "id": "1897d64d",
   "metadata": {},
   "outputs": [
    {
     "data": {
      "text/plain": [
       "{'Greta Van Fleet', 'Led Zeppelin'}"
      ]
     },
     "execution_count": 25,
     "metadata": {},
     "output_type": "execute_result"
    }
   ],
   "source": [
    "# No confundir con los diccionarios\n",
    "bandas = {\"AC/DC\", \"Metallica\", \"Greta Van Fleet\", \"Soda Stéreo\", \"Los Piojos\"}\n",
    "type(bandas)\n",
    "\n",
    "bandas_nacionales = set((\"Soda Stéreo\", \"La Renga\"))\n",
    "bandas_nacionales\n",
    "\n",
    "bandas_internacionales = set([\"Greta Van Fleet\", \"Led Zeppelin\"])\n",
    "bandas_internacionales"
   ]
  },
  {
   "cell_type": "code",
   "execution_count": 29,
   "id": "b0ff001d",
   "metadata": {},
   "outputs": [
    {
     "name": "stdout",
     "output_type": "stream",
     "text": [
      "<class 'set'> {'alabanza'}\n",
      "<class 'set'> {'a', 'n', 'b', 'l', 'z'}\n"
     ]
    }
   ],
   "source": [
    "#Otras formas de crear conjuntos\n",
    "c1 = {'alabanza'}\n",
    "c2 = set('alabanza')\n",
    "print(type(c1),c1)\n",
    "print(type(c2),c2)"
   ]
  },
  {
   "cell_type": "markdown",
   "id": "3ec6ac6d",
   "metadata": {},
   "source": [
    "### Operaciones con conjuntos\n",
    "\n",
    "- Pensemos en las operaciones matemáticas sobre conjuntos: \n",
    "    - **in**: retonar si un elemento pertenece o no a un conjunto.\n",
    "    - **|**: unión entre dos conjuntos.\n",
    "    - **&**: intersección entre dos conjuntos. \n",
    "    - **-**: diferencia de conjuntos.\n"
   ]
  },
  {
   "cell_type": "code",
   "execution_count": 34,
   "id": "7fc55ab2",
   "metadata": {},
   "outputs": [
    {
     "name": "stdout",
     "output_type": "stream",
     "text": [
      "True\n",
      "UNION de todas las bandas: {'Greta Van Fleet', 'La Renga', 'Metallica', 'Los Piojos', 'AC/DC', 'Soda Stéreo'}\n",
      "INTERSECCION de ambos conjuntos: {'Los Piojos', 'Soda Stéreo'}\n",
      "DIFERENCIA - No son nacionales: {'AC/DC', 'Metallica', 'Greta Van Fleet'}\n"
     ]
    }
   ],
   "source": [
    "# Operaciones entre conjuntos\n",
    "bandas = {\"AC/DC\", \"Metallica\", \"Greta Van Fleet\", \"Soda Stéreo\", \"Los Piojos\"}\n",
    "bandas_nacionales = set((\"Soda Stéreo\", \"La Renga\", \"Los Piojos\"))\n",
    "\n",
    "print(\"Los Piojos\" in bandas)\n",
    "\n",
    "# Operciones\n",
    "\n",
    "# Union\n",
    "todos = bandas | bandas_nacionales\n",
    "print(f\"UNION de todas las bandas: {todos}\")\n",
    "\n",
    "# Interseccion\n",
    "en_ambos = bandas & bandas_nacionales\n",
    "print(f\"INTERSECCION de ambos conjuntos: {en_ambos}\")\n",
    "\n",
    "# Diferencia\n",
    "internacionales = bandas - bandas_nacionales\n",
    "print(f\"DIFERENCIA - No son nacionales: {internacionales}\")"
   ]
  }
 ],
 "metadata": {
  "kernelspec": {
   "display_name": "Python 3 (ipykernel)",
   "language": "python",
   "name": "python3"
  },
  "language_info": {
   "codemirror_mode": {
    "name": "ipython",
    "version": 3
   },
   "file_extension": ".py",
   "mimetype": "text/x-python",
   "name": "python",
   "nbconvert_exporter": "python",
   "pygments_lexer": "ipython3",
   "version": "3.11.2"
  }
 },
 "nbformat": 4,
 "nbformat_minor": 5
}
