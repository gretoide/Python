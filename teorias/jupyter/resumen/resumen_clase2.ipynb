{
 "cells": [
  {
   "cell_type": "markdown",
   "id": "089d11cc",
   "metadata": {},
   "source": [
    "# Seminario Python - Clase 2\n",
    "- Listas\n",
    "- Tuplas\n",
    "- Diccionarios"
   ]
  },
  {
   "cell_type": "markdown",
   "id": "931fa9c3",
   "metadata": {},
   "source": [
    "## Listas\n",
    "- Una __lista__ es una colección ordenada  de elementos.\n",
    "- Las listas son estructuras heterogéneas, es decir que pueden contener cualquier tipo de datos, inclusive otras listas.\n",
    "- Se accede a través de un índice que indica la posición del elemento dentro de la lista encerrado entre corchetes __[]__.\n",
    "<br>__IMPORTANTE:__ al igual que las cadenas los índices comienzan en 0.\n",
    "- Las listas son datos __MUTABLES__.\n",
    "- Recordemos que las variables son referencias a objetos. (Cuidado al asignar, porque referencian al mismo objeto)\n",
    "\n",
    "- Algunos métodos o funciones aplicables a listas: **extend()**, **index()**, **remove()**,\t**pop()**, **count()**.\n",
    " \n",
    "- [+Info](https://docs.python.org/es/3/tutorial/datastructures.html) en la documentación oficial."
   ]
  },
  {
   "cell_type": "code",
   "execution_count": 2,
   "id": "6749040f",
   "metadata": {
    "scrolled": true
   },
   "outputs": [
    {
     "data": {
      "text/plain": [
       "[152, 161, 142, 157, 138, 153, 146, 130]"
      ]
     },
     "execution_count": 2,
     "metadata": {},
     "output_type": "execute_result"
    }
   ],
   "source": [
    "# Declaracion\n",
    "duracion_pelis = [152, 161, 142, 157, 138, 153, 146, 130]\n",
    "duracion_pelis"
   ]
  },
  {
   "cell_type": "code",
   "execution_count": 3,
   "id": "9d6596dd",
   "metadata": {},
   "outputs": [
    {
     "data": {
      "text/plain": [
       "[1, 'dos', [3, 'cuatro'], True]"
      ]
     },
     "execution_count": 3,
     "metadata": {},
     "output_type": "execute_result"
    }
   ],
   "source": [
    "# Heterogeneidad\n",
    "varios = [1, \"dos\", [3, \"cuatro\"], True]\n",
    "varios"
   ]
  },
  {
   "cell_type": "code",
   "execution_count": 5,
   "id": "8e02f8f7",
   "metadata": {},
   "outputs": [
    {
     "name": "stdout",
     "output_type": "stream",
     "text": [
      "17\n",
      "dos\n",
      "[1, 'dos']\n"
     ]
    }
   ],
   "source": [
    "# Acceso\n",
    "varios = [ 17, \"hola\", [1, \"dos\"], 5.5, True] \n",
    "print(varios[0])\n",
    "print(varios[2][1] )\n",
    "print(varios[-3])"
   ]
  },
  {
   "cell_type": "code",
   "execution_count": 7,
   "id": "b44b5c1a",
   "metadata": {},
   "outputs": [
    {
     "name": "stdout",
     "output_type": "stream",
     "text": [
      "17\n",
      "hola\n",
      "[1, 'dos']\n",
      "5.5\n",
      "True\n"
     ]
    }
   ],
   "source": [
    "# Recorrer\n",
    "for elem in varios:\n",
    "    print(elem)"
   ]
  },
  {
   "cell_type": "code",
   "execution_count": 4,
   "id": "6868c7c2",
   "metadata": {},
   "outputs": [
    {
     "ename": "NameError",
     "evalue": "name 'varios' is not defined",
     "output_type": "error",
     "traceback": [
      "\u001b[1;31m---------------------------------------------------------------------------\u001b[0m",
      "\u001b[1;31mNameError\u001b[0m                                 Traceback (most recent call last)",
      "Cell \u001b[1;32mIn[4], line 2\u001b[0m\n\u001b[0;32m      1\u001b[0m \u001b[38;5;66;03m# Métodos\u001b[39;00m\n\u001b[1;32m----> 2\u001b[0m \u001b[38;5;28mlen\u001b[39m(\u001b[43mvarios\u001b[49m)\n\u001b[0;32m      4\u001b[0m \u001b[38;5;66;03m# Agregar elementos\u001b[39;00m\n\u001b[0;32m      5\u001b[0m lista \u001b[38;5;241m=\u001b[39m [\u001b[38;5;124m\"\u001b[39m\u001b[38;5;124mLeo\u001b[39m\u001b[38;5;124m\"\u001b[39m, \u001b[38;5;241m10\u001b[39m]\n",
      "\u001b[1;31mNameError\u001b[0m: name 'varios' is not defined"
     ]
    }
   ],
   "source": [
    "# Métodos\n",
    "len(varios)\n",
    "\n",
    "# Agregar elementos\n",
    "lista = [\"Leo\", 10]\n",
    "lista.append(\"Dibu\")\n",
    "lista.append(23)\n",
    "\n",
    "# Slicing Listas\n",
    "vocales = [ \"a\", \"e\",\"i\", \"o\", \"u\"] \n",
    "print(vocales[1:3])"
   ]
  },
  {
   "cell_type": "code",
   "execution_count": 6,
   "id": "70d2a8f1",
   "metadata": {},
   "outputs": [
    {
     "data": {
      "text/plain": [
       "[0, 4, 16, 36, 64]"
      ]
     },
     "execution_count": 6,
     "metadata": {},
     "output_type": "execute_result"
    }
   ],
   "source": [
    "# Listas por comprension\n",
    "cuadrados = [num**2 for num in range(10) if num % 2 == 0]\n",
    "cuadrados"
   ]
  },
  {
   "cell_type": "markdown",
   "id": "ac5c536a",
   "metadata": {},
   "source": [
    "## Tuplas\n",
    "- Son __inmutables__"
   ]
  },
  {
   "cell_type": "code",
   "execution_count": 7,
   "id": "bc5be530",
   "metadata": {},
   "outputs": [
    {
     "data": {
      "text/plain": [
       "tuple"
      ]
     },
     "execution_count": 7,
     "metadata": {},
     "output_type": "execute_result"
    }
   ],
   "source": [
    "tupla = 1, 2 \n",
    "tupla1 = (1, 2) \n",
    "tupla2 = (1,)  # OJO con esto\n",
    "tupla3 = () # Tupla vacia\n",
    "type(tupla2)"
   ]
  },
  {
   "cell_type": "code",
   "execution_count": 16,
   "id": "4291cfca",
   "metadata": {},
   "outputs": [
    {
     "name": "stdout",
     "output_type": "stream",
     "text": [
      "(2, 3, 'hola')\n",
      "('nueva', 1, 2)\n"
     ]
    }
   ],
   "source": [
    "# Slicing tuplas\n",
    "tupla = (1, 2, 3, \"hola\")\n",
    "print(tupla[1:4])\n",
    "nueva_tupla = (\"nueva\",) + tupla[:2]\n",
    "print(nueva_tupla)"
   ]
  },
  {
   "cell_type": "markdown",
   "id": "762518a8",
   "metadata": {},
   "source": [
    "# Diccionarios\n",
    "- Un diccionario es un conjunto no ordenado de pares de datos: clave:valor.\n",
    "- Se definen con { }.\n",
    "- Las claves pueden ser cualquier tipo inmutable.\n",
    "- Las cadenas y números siempre pueden ser claves.\n",
    "- Las tuplas se pueden usar sólo si no tienen objetos mutables.\n",
    "- Al igual que las listas y tuplas, se accede usando [ ] pero en vez de un índice que representa la posición, usamos la clave.\n",
    "- Es un error extraer un valor usando una clave no existente.\n",
    "- Se recorren como cualquier colección.\n",
    "- __del:__ permite borrar un par clave:valor\n",
    "- __clear():__ permite borrar todo"
   ]
  },
  {
   "cell_type": "code",
   "execution_count": null,
   "id": "a94a7f24",
   "metadata": {},
   "outputs": [],
   "source": [
    "# Declaracion de diccionarios\n",
    "pelis = {\"Harry Potter y la piedra filosofal (2001)\":152, \n",
    "         \"Harry Potter y la cámara secreta (2002)\": 161, \n",
    "         \"Harry Potter y el prisionero de Azkaban (2004)\": 142,\n",
    "         \"Harry Potter y el cáliz de fuego (2005)\": 157,\n",
    "         \"Harry Potter y la Orden del Fénix (2007)\":138,\n",
    "         \"Harry Potter y el misterio del príncipe (2009)\":153,\n",
    "         \"Harry Potter y las Reliquias de la Muerte - Parte 1 (2010)\":146,\n",
    "         \"Harry Potter y las Reliquias de la Muerte - Parte 2 (2011)\":130\n",
    "        }"
   ]
  },
  {
   "cell_type": "code",
   "execution_count": 17,
   "id": "6a885f72",
   "metadata": {},
   "outputs": [
    {
     "data": {
      "text/plain": [
       "{'enero': 31, 'febrero': 28, 'marzo': 31}"
      ]
     },
     "execution_count": 17,
     "metadata": {},
     "output_type": "execute_result"
    }
   ],
   "source": [
    "meses = {\"enero\": 31, \"febrero\": 28, \"marzo\": 31}\n",
    "meses"
   ]
  },
  {
   "cell_type": "code",
   "execution_count": 18,
   "id": "701cedd1",
   "metadata": {},
   "outputs": [
    {
     "data": {
      "text/plain": [
       "{'enero': 31, 'febrero': 29, 'marzo': 31, 'abril': 30}"
      ]
     },
     "execution_count": 18,
     "metadata": {},
     "output_type": "execute_result"
    }
   ],
   "source": [
    "# Agregar elementos\n",
    "meses[\"febrero\"] = 29\n",
    "meses[\"abril\"] = 30\n",
    "meses"
   ]
  },
  {
   "cell_type": "code",
   "execution_count": 19,
   "id": "bd9fb55e",
   "metadata": {},
   "outputs": [
    {
     "name": "stdout",
     "output_type": "stream",
     "text": [
      "['Riff', 'La Renga', 'La Torre']\n",
      "['La Mississippi', 'Memphis', 'violeta']\n"
     ]
    }
   ],
   "source": [
    "# Imprimir elementos\n",
    "musica = {\"rock\": [\"Riff\", \"La Renga\", \"La Torre\"], \n",
    "          \"blues\": [\"La Mississippi\", \"Memphis\", \"violeta\"]}\n",
    "\n",
    "for elem in musica:\n",
    "    print(musica[elem])"
   ]
  },
  {
   "cell_type": "code",
   "execution_count": 22,
   "id": "e5f31683",
   "metadata": {},
   "outputs": [
    {
     "name": "stdout",
     "output_type": "stream",
     "text": [
      "rock\n",
      "blues\n"
     ]
    }
   ],
   "source": [
    "# Métodos\n",
    "claves = musica.keys()\n",
    "valores = musica.values()\n",
    "items = musica.items()\n",
    "\n",
    "for elem in claves:\n",
    "    print(elem) "
   ]
  },
  {
   "cell_type": "code",
   "execution_count": 23,
   "id": "bb9dd38c",
   "metadata": {},
   "outputs": [
    {
     "name": "stdout",
     "output_type": "stream",
     "text": [
      "1703727433472\n",
      "1703727433472\n",
      "1703727056128\n"
     ]
    }
   ],
   "source": [
    "# Duplicar diccionarios\n",
    "meses = {\"enero\": 31, \"febrero\": 28, \"marzo\": 31}\n",
    "meses1 = meses\n",
    "meses2 = meses.copy()\n",
    "print(id(meses))\n",
    "print(id(meses1))\n",
    "print(id(meses2))"
   ]
  },
  {
   "cell_type": "code",
   "execution_count": 25,
   "id": "71c57953",
   "metadata": {},
   "outputs": [
    {
     "data": {
      "text/plain": [
       "{'enero': 31, 'febrero': 28, 'marzo': 31}"
      ]
     },
     "execution_count": 25,
     "metadata": {},
     "output_type": "execute_result"
    }
   ],
   "source": [
    "# Diccionario con constructor\n",
    "dicci = dict([(\"enero\", 31), (\"febrero\", 28), (\"marzo\", 31)])\n",
    "dicci"
   ]
  },
  {
   "cell_type": "code",
   "execution_count": 26,
   "id": "ebf6718a",
   "metadata": {},
   "outputs": [
    {
     "data": {
      "text/plain": [
       "{2: 4, 4: 16, 6: 36}"
      ]
     },
     "execution_count": 26,
     "metadata": {},
     "output_type": "execute_result"
    }
   ],
   "source": [
    "# Por comprension\n",
    "dict ([(x, x**2) for x in (2, 4, 6)]) "
   ]
  }
 ],
 "metadata": {
  "kernelspec": {
   "display_name": "Python 3 (ipykernel)",
   "language": "python",
   "name": "python3"
  },
  "language_info": {
   "codemirror_mode": {
    "name": "ipython",
    "version": 3
   },
   "file_extension": ".py",
   "mimetype": "text/x-python",
   "name": "python",
   "nbconvert_exporter": "python",
   "pygments_lexer": "ipython3",
   "version": "3.11.2"
  }
 },
 "nbformat": 4,
 "nbformat_minor": 5
}
