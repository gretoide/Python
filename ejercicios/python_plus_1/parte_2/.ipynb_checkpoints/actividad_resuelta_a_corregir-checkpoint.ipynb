{
 "cells": [
  {
   "cell_type": "markdown",
   "id": "b015a19f",
   "metadata": {
    "id": "b015a19f"
   },
   "source": [
    "# Actividad 1  por Python plus - Parte I \n",
    "\n",
    "## Resolvé el siguiente desafío:"
   ]
  },
  {
   "cell_type": "markdown",
   "id": "14eb10c9",
   "metadata": {
    "id": "14eb10c9"
   },
   "source": [
    "**EJERCICIO 3:** dado el archivo denominado [log_catedras](https://archivos.linti.unlp.edu.ar/index.php/s/ofgZh41dUYMYX6H) que contiene  el registro de  accesos al entorno catedras.linti, se desea:\n",
    "1. Generar una función que retorne los usuarios que nunca vieron el estado de la entrega 1. Esto se puede chequear si la columna \"Contexto del evento\" contiene el texto \"Tarea: Entrega 1\" y la columna \"Nombre evento\" contiene el texto \"Se ha visualizado el estado de la entrega.\". Esta función recibe un parámetro opcional que puede contener: \"A\", para pasar los nombres de usuario  a mayúsculas: \"a\", para pasarlos a mimúsculas o \"None\" si se dejan tal como se encuentran en el archivo. Por defecto la función retorna los nombres tales como aparecen en el archivo. \n",
    "2. Escribir un programa que, utilizando la función anterior, muestre un listado similar al siguiente:\n",
    " \n",
    "```\n",
    "---------------------\n",
    "Usuario en el sistema \n",
    "---------------------\n",
    "\n",
    "-----Butterfree-----\n",
    "------Pikachu-------\n",
    "-------Oddish-------\n",
    "------Kingler-------\n",
    "-------Tauros-------\n",
    "```"
   ]
  },
  {
   "cell_type": "code",
   "execution_count": null,
   "id": "5021bb7c",
   "metadata": {
    "id": "5021bb7c",
    "outputId": "a4e24e4b-2ba7-4e5f-ada3-eb8cc1e123b0"
   },
   "outputs": [
    {
     "name": "stdout",
     "output_type": "stream",
     "text": [
      "-----------------------------------------\n",
      "    Usuario en el sistema     \n",
      "-----------------------------------------\n",
      "----------Bulbasaur-----------\n",
      "----------Butterfree----------\n"
     ]
    }
   ],
   "source": [
    "import pandas as pd\n",
    "\n",
    "\n",
    "def usuarios_not_entrega1(log_file_path, case='none'):\n",
    "    usuarios = pd.read_csv(log_file_path)\n",
    "    entrega_uno = usuarios[(usuarios['Contexto del evento'].str.contains('Tarea: Entrega 1')) &\n",
    "                         (usuarios['Nombre evento'].str.contains('Se ha visualizado el estado de la entrega.'))]\n",
    "    usuarios_entrega = entrega_uno['Nombre completo del usuario'].unique()\n",
    "    if case == 'a':\n",
    "        usuarios['Nombre completo del usuario'] = usuarios['Nombre completo del usuario'].apply(lambda x: x.lower())\n",
    "        usuarios_entrega= [user.lower() for user in usuarios_entrega]\n",
    "    elif case == 'A':\n",
    "        usuarios['Nombre completo del usuario'] = usuarios['Nombre completo del usuario'].apply(lambda x: x.upper())\n",
    "        usuarios_entrega = [user.upper() for user in usuarios_entrega]\n",
    "    usuarios_not_entrega = usuarios.groupby('Nombre completo del usuario').apply(lambda x: 'Tarea: Entrega 1' not in x['Contexto del evento'].values or 'Se ha visualizado el estado de la entrega.' not in x['Nombre evento'].values)\n",
    "    usuarios_not_entrega = usuarios_not_entrega[usuarios_not_entrega].index.values\n",
    "\n",
    "    return usuarios_not_entrega\n",
    "\n",
    "log_file_path = 'log_catedras.csv'\n",
    "case = 'none'  # Opciones: 'none', 'a', 'A'\n",
    "\n",
    "with open(log_file_path, 'r') as f:\n",
    "    users_no_entrega1 = usuarios_not_entrega1(f, case=case)\n",
    "\n",
    "text='Usuario en el sistema'\n",
    "print('-----------------------------------------')\n",
    "print(text.center(30))\n",
    "print('-----------------------------------------')\n",
    "for user in users_no_entrega1:\n",
    "    print(user.center(30,'-'))\n"
   ]
  }
 ],
 "metadata": {
  "colab": {
   "provenance": []
  },
  "kernelspec": {
   "display_name": "Python 3 (ipykernel)",
   "language": "python",
   "name": "python3"
  },
  "language_info": {
   "codemirror_mode": {
    "name": "ipython",
    "version": 3
   },
   "file_extension": ".py",
   "mimetype": "text/x-python",
   "name": "python",
   "nbconvert_exporter": "python",
   "pygments_lexer": "ipython3",
   "version": "3.10.6"
  }
 },
 "nbformat": 4,
 "nbformat_minor": 5
}
