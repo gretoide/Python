{
 "cells": [
  {
   "cell_type": "markdown",
   "id": "14df4a10",
   "metadata": {},
   "source": [
    "# Actividad 1 por Python plus - Parte II\n",
    "\n",
    "- Sobre el ejercicio asignado:\n",
    "    - [Evaluación del trabajo asignado](#parte1.1)\n",
    "    - [Análisis del ejercicio asignado](#parte1.2)\n",
    "- Sobre este trabajo\n",
    "    - [Corrección de la evaluación realizada](#parte2.1)\n",
    "    - [Solución alternativa](#parte2.2)\n",
    "    - [Uso de ChatGPT](#parte2.3)"
   ]
  },
  {
   "cell_type": "markdown",
   "id": "eb80dfd8",
   "metadata": {},
   "source": [
    "## Evaluación del trabajo asignado <a name=\"parte1.1\"></a>"
   ]
  },
  {
   "cell_type": "markdown",
   "id": "805c4f24",
   "metadata": {},
   "source": [
    "### Solución propuesta por tu compañero/a"
   ]
  },
  {
   "cell_type": "markdown",
   "id": "b2c22533",
   "metadata": {},
   "source": [
    "### -- Copiá acá el enunciado a corregir --\n",
    "\n",
    "Incluí también la URL del cuaderno asignado\n",
    "\n",
    "\n",
    "**URL:** https://drive.google.com/file/d/1YzrW-a5HludI1U7s-mhsLz_WEPBBmLcy/view?usp=share_link\n",
    "\n"
   ]
  },
  {
   "cell_type": "code",
   "execution_count": 1,
   "id": "05249b25",
   "metadata": {},
   "outputs": [
    {
     "name": "stdout",
     "output_type": "stream",
     "text": [
      "-----------------------------------------\n",
      "    Usuario en el sistema     \n",
      "-----------------------------------------\n",
      "----------Bulbasaur-----------\n",
      "----------Butterfree----------\n"
     ]
    }
   ],
   "source": [
    "# COPIA ACA LA SOLUCION A EVALUAR\n",
    "\n",
    "import pandas as pd\n",
    "\n",
    "\n",
    "def usuarios_not_entrega1(log_file_path, case='none'):\n",
    "    usuarios = pd.read_csv(log_file_path)\n",
    "\n",
    "\n",
    "    entrega_uno = usuarios[(usuarios['Contexto del evento'].str.contains('Tarea: Entrega 1')) &\n",
    "                         (usuarios['Nombre evento'].str.contains('Se ha visualizado el estado de la entrega.'))]\n",
    "    \n",
    "\n",
    "    usuarios_entrega = entrega_uno['Nombre completo del usuario'].unique()\n",
    "\n",
    "\n",
    "    if case == 'a':\n",
    "        usuarios['Nombre completo del usuario'] = usuarios['Nombre completo del usuario'].apply(lambda x: x.lower())\n",
    "        usuarios_entrega= [user.lower() for user in usuarios_entrega]\n",
    "\n",
    "    elif case == 'A':\n",
    "        usuarios['Nombre completo del usuario'] = usuarios['Nombre completo del usuario'].apply(lambda x: x.upper())\n",
    "        usuarios_entrega = [user.upper() for user in usuarios_entrega]\n",
    "    \n",
    "    usuarios_not_entrega = usuarios.groupby('Nombre completo del usuario').apply(lambda x: 'Tarea: Entrega 1' not in x['Contexto del evento'].values or 'Se ha visualizado el estado de la entrega.' not in x['Nombre evento'].values)\n",
    "    usuarios_not_entrega = usuarios_not_entrega[usuarios_not_entrega].index.values\n",
    "\n",
    "    return usuarios_not_entrega\n",
    "\n",
    "log_file_path = 'log_catedras.csv'\n",
    "case = 'none'  # Opciones: 'none', 'a', 'A'\n",
    "\n",
    "with open(log_file_path, 'r') as f:\n",
    "    users_no_entrega1 = usuarios_not_entrega1(f, case=case)\n",
    "\n",
    "text='Usuario en el sistema'\n",
    "print('-----------------------------------------')\n",
    "print(text.center(30))\n",
    "print('-----------------------------------------')\n",
    "for user in users_no_entrega1:\n",
    "    print(user.center(30,'-'))\n",
    "\n"
   ]
  },
  {
   "cell_type": "markdown",
   "id": "1eae6299",
   "metadata": {},
   "source": [
    "## Análisis del ejercicio asignado <a name=\"parte1.2\"></a>"
   ]
  },
  {
   "cell_type": "markdown",
   "id": "4e9717da",
   "metadata": {},
   "source": [
    "### Calificá de acuerdo a las siguientes pautas:"
   ]
  },
  {
   "cell_type": "code",
   "execution_count": 4,
   "id": "2762a6c2",
   "metadata": {
    "scrolled": true
   },
   "outputs": [],
   "source": [
    "# Puntos acumulados del trabajo de mi conpañero/a\n",
    "puntos_parte_I = 0"
   ]
  },
  {
   "cell_type": "markdown",
   "id": "fb152d91",
   "metadata": {},
   "source": [
    "1.- **¿El algoritmo para el procesamiento de datos en el archivo es correcto?¿Resuelve la consulta planteada?:** +10 puntos\n",
    "\n",
    "- Sumá 10 puntos si el código es correcto, inpendientemente si sigue con todas las indicaciones como lo pide el enunciado.\n"
   ]
  },
  {
   "cell_type": "code",
   "execution_count": 5,
   "id": "00a9cdca",
   "metadata": {
    "scrolled": true
   },
   "outputs": [],
   "source": [
    "# puntos a sumar de esta consigna:\n",
    "puntos_parte_I += 0 #¿Por qué usó pandas? Aún no lo vimos!!"
   ]
  },
  {
   "cell_type": "markdown",
   "id": "43ba367c",
   "metadata": {},
   "source": [
    "2.-**¿Define la función de acuerdo a lo pedido? (respecto a la definición de parámetros, y valores retornados)**: +5 puntos\n",
    "\n",
    "- Sumá 2.5 puntos: si lo hace pero presenta algún error (indicá cuál es el error).\n",
    "\n",
    "- Sumá 5 puntos: si está correcto"
   ]
  },
  {
   "cell_type": "code",
   "execution_count": 6,
   "id": "590a4742",
   "metadata": {
    "scrolled": true
   },
   "outputs": [],
   "source": [
    "# puntos a sumar de esta consigna:\n",
    "puntos_parte_I += 5\n",
    "# NDberías usar None en vez de \"None\""
   ]
  },
  {
   "cell_type": "markdown",
   "id": "577b576a",
   "metadata": {},
   "source": [
    "3.-**¿Genera el listado de acuerdo a lo pedido?¿Respeta el formato propuesto?**: +5 puntos\n",
    "\n",
    "- Sumá 2.5 puntos: si lo hace pero presenta algún error (indicá cuál es el error).\n",
    "\n",
    "- Sumá 5 puntos: si está correcto"
   ]
  },
  {
   "cell_type": "code",
   "execution_count": 7,
   "id": "e3963e5d",
   "metadata": {
    "scrolled": true
   },
   "outputs": [],
   "source": [
    "# puntos a sumar de esta consigna:\n",
    "puntos_parte_I += 5"
   ]
  },
  {
   "cell_type": "markdown",
   "id": "e619052f",
   "metadata": {},
   "source": [
    "4- **Sobre el acceso al archivo de datos:** -10  a 5 puntos\n",
    "\n",
    "- Descontá 5 puntos si lo abre utilizando una ruta absoluta (ejemplo: /home/archivo/archivo.csv).\n",
    "- Descontá 5 puntos si no se cierra el archivo.\n",
    "- Sumá 5 puntos si usa la sentencia with y lo hace en forma correcta.\n",
    "- Sumá 5 puntos si abre correctamente el archivo (sin with) y lo cierra."
   ]
  },
  {
   "cell_type": "code",
   "execution_count": 8,
   "id": "b55c9896",
   "metadata": {
    "scrolled": true
   },
   "outputs": [],
   "source": [
    "# puntos a sumar de esta consigna:\n",
    "puntos_parte_I += 5"
   ]
  },
  {
   "cell_type": "markdown",
   "id": "1670ee4b",
   "metadata": {},
   "source": [
    "5.- **Alguna otra falla o detalles que quieras marcar?**: - 5 puntos\n",
    "\n",
    "- Especificá cuál es el error que encontrás:\n",
    "Me parece que es una manera no muy legible de resolverla y que el enunciado nunca\n",
    "pide los usuarios que sí visualizaron la entrega. Genera esas estructuras de forma innecesaria y luego no las utiliza."
   ]
  },
  {
   "cell_type": "code",
   "execution_count": 9,
   "id": "1e985faa",
   "metadata": {
    "scrolled": true
   },
   "outputs": [],
   "source": [
    "# puntos a descontar de esta consigna:\n",
    "puntos_parte_I -= 2"
   ]
  },
  {
   "cell_type": "markdown",
   "id": "50b1c6fc",
   "metadata": {},
   "source": [
    "### Total de puntos de la actividad (parte I) del trabajo asignado:"
   ]
  },
  {
   "cell_type": "code",
   "execution_count": 10,
   "id": "afbe1851",
   "metadata": {
    "scrolled": true
   },
   "outputs": [
    {
     "name": "stdout",
     "output_type": "stream",
     "text": [
      "Puntos actividad 1 - Parte I: 13\n"
     ]
    }
   ],
   "source": [
    "print(f\"Puntos actividad 1 - Parte I: {puntos_parte_I if puntos_parte_I >0 else 0}\")"
   ]
  },
  {
   "cell_type": "markdown",
   "id": "84ef7162",
   "metadata": {},
   "source": [
    "Corrección de Claudia:\n",
    "Esta solución no es válida. Recién vamos a ver pandas la semana del 15 de mayo. \n",
    "\n",
    "**Puntos actividad 1 - Parte I:** 0"
   ]
  },
  {
   "cell_type": "markdown",
   "id": "34aa40a5",
   "metadata": {},
   "source": [
    "### ¿Algo más que no fue considerado?"
   ]
  },
  {
   "cell_type": "markdown",
   "id": "1e1f3415",
   "metadata": {},
   "source": [
    "Que le pasamos el archivo que se encuentra en nuestro directorio de trabajo actual, eso podría variar y no podríamos acceder al archivo."
   ]
  },
  {
   "cell_type": "markdown",
   "id": "dc26afe2",
   "metadata": {},
   "source": [
    "## Corrección de la evaluación realizada - Total 20 puntos <a name=\"parte2.1\"></a>"
   ]
  },
  {
   "cell_type": "code",
   "execution_count": 16,
   "id": "a397db33",
   "metadata": {
    "scrolled": true
   },
   "outputs": [],
   "source": [
    "# Puntos acumulados de mi parte II    - A COMPLETAR POR LA CATEDRA -\n",
    "puntos_parte_II = 0"
   ]
  },
  {
   "cell_type": "markdown",
   "id": "93b1dce8",
   "metadata": {},
   "source": [
    "### Corrección de la parte I de mi compañero/a: 10 puntos\n",
    "\n",
    "- Suma 10 puntos si la evaluación realizada es correcta.\n",
    "- Suma 5 puntos si el manejo de arhivos está mal evaluado, pero el resto es correcto.\n",
    "- Suma 5 puntos si la definición de la función está mal evaluada pero el resto es correcto. "
   ]
  },
  {
   "cell_type": "code",
   "execution_count": 17,
   "id": "8ebab756",
   "metadata": {
    "scrolled": true
   },
   "outputs": [],
   "source": [
    "# Sumo puntos de la sección - A COMPLETAR POR LA CATEDRA -\n",
    "puntos_parte_II += 10"
   ]
  },
  {
   "cell_type": "markdown",
   "id": "b6836a8f",
   "metadata": {},
   "source": [
    "### Análisis de la  solución propuesta por mi compañero/a: 10 puntos\n",
    "\n",
    "Responodé: "
   ]
  },
  {
   "cell_type": "markdown",
   "id": "3631026c",
   "metadata": {},
   "source": [
    "- **¿Qué estructuras de datos usa para el manejo de los datos ingresados desde el archivo?** 3 ptos.\n",
    "\n",
    "\n",
    "Utiliza listas y estructuras de datos de pandas DataFrames "
   ]
  },
  {
   "cell_type": "markdown",
   "id": "19c84303",
   "metadata": {},
   "source": [
    "- **¿Usa expresiones lambda, funciones map, filter, reduce u otra similar? ¿Están correctamente definidas?** 2 ptos.\n",
    " Usa expresiones lambda y algunas funciones de pandas de manera correcta.\n"
   ]
  },
  {
   "cell_type": "markdown",
   "id": "ece79493",
   "metadata": {},
   "source": [
    "- **¿Recorre el archivo más de lo necesario para resolver el ejercicio? ¿Se podría haber hecho de una mejor forma?Justificá.** 5 ptos. si justificás.\n",
    "\n",
    "Para hacerlo de forma más eficiente, podríamos haber abierto el archivo, guardar los usuarios en una lista de 'usuarios', y luego, fuera del 'with' realizar las operaciones que se requieren. El archivo podría ser muy grande y eso sería un problema, es importante tratar de leer el archivo solo una vez y almacenar los datos necesarios.\n"
   ]
  },
  {
   "cell_type": "code",
   "execution_count": 18,
   "id": "d63dc7e9",
   "metadata": {
    "scrolled": true
   },
   "outputs": [],
   "source": [
    "# Sumo puntos de la sección - A COMPLETAR POR LA CATEDRA -\n",
    "puntos_parte_II += 10"
   ]
  },
  {
   "cell_type": "markdown",
   "id": "29fdc855",
   "metadata": {},
   "source": [
    "## Escribí una solución alternativa a la planteada por tu compañero/a: 15 puntos <a name=\"parte2.2\"></a>\n",
    "**Esta solución será evaluada de acuerdo a las mismas pautas establecidas en este cuaderno.** (reduciendo proporcionalmente los puntos de cada sección, dado que el acá es 15 y no 25)"
   ]
  },
  {
   "cell_type": "code",
   "execution_count": 15,
   "id": "9a1bc0dc",
   "metadata": {
    "scrolled": true
   },
   "outputs": [
    {
     "name": "stdout",
     "output_type": "stream",
     "text": [
      "---------------------\n",
      "Usuario en el sistema\n",
      "---------------------\n",
      "\n",
      "-----Bulbasaur-----\n",
      "-----Butterfree-----\n"
     ]
    }
   ],
   "source": [
    "# Solución alternativa\n",
    "\n",
    "# Es una solución un poco más simple y más manual, usando alternativamente el uso de csv en vez de pandas.\n",
    "\n",
    "import os\n",
    "import csv\n",
    "\n",
    "# Accedemos a la ruta donde se encuentra nuestro archivo csv\n",
    "archivo = 'log_catedras.csv'\n",
    "#ruta_completa = os.path.abspath(os.path.join('datasets',archivo))\n",
    "ruta_completa = archivo #Modifiqueé para corregir\n",
    "\n",
    "def usuarios_sin_entrega(ruta_completa,modo=None):\n",
    "    \"\"\"Retorna listado de usuarios que no vieron la \"Entrega 1\" \"\"\"\n",
    "\n",
    "    # Conjunto vacio para almacenar usuarios\n",
    "    usuarios_vistos = set()\n",
    "    usuarios_totales = set()\n",
    "\n",
    "    # Nos guardamos los usuarios totales\n",
    "    with open(ruta_completa,'r') as archivo:\n",
    "        reader = csv.reader(archivo, delimiter=',')\n",
    "\n",
    "        #Saltamos encabezado\n",
    "        next(reader)\n",
    "\n",
    "        # Agregamos todos los usuarios, y en una estructura alternativa, solo los que lo vieron\n",
    "        for usuario in reader:\n",
    "            nombre_usuario = usuario[1]\n",
    "            contexto = usuario[3]\n",
    "            evento = usuario[4]\n",
    "            if \"Tarea: Entrega 1\" in contexto and \"Se ha visualizado el estado de la entrega.\" in evento:\n",
    "                usuarios_vistos.add(nombre_usuario)\n",
    "            usuarios_totales.add(nombre_usuario)\n",
    "\n",
    "    # Nos guardamos los usuarios que no vieron la entrega\n",
    "    usuarios_sin_ver = usuarios_totales - usuarios_vistos\n",
    "\n",
    "    # Retornamos según el modo\n",
    "    if modo == 'A':\n",
    "        return [usuario.upper() for usuario in usuarios_sin_ver]\n",
    "    elif modo == 'a':\n",
    "        return [usuario.lower() for usuario in usuarios_sin_ver]\n",
    "    else:\n",
    "        return usuarios_sin_ver\n",
    "    \n",
    "\n",
    "def imprimir_informacion(listado):\n",
    "    \"\"\"Imprime el listado de usuarios en el formato deseado\"\"\"\n",
    "\n",
    "    print(\"---------------------\")\n",
    "    print(\"Usuario en el sistema\")\n",
    "    print(\"---------------------\\n\")\n",
    "    \n",
    "    for usuario in listado:\n",
    "        print(\"-----{}-----\".format(usuario))\n",
    "\n",
    "listado_usuarios = usuarios_sin_entrega(ruta_completa)\n",
    "imprimir_informacion(listado_usuarios)"
   ]
  },
  {
   "cell_type": "code",
   "execution_count": 19,
   "id": "b61dae7c",
   "metadata": {
    "scrolled": true
   },
   "outputs": [],
   "source": [
    "# Sumo puntos de la sección - A COMPLETAR POR LA CATEDRA\n",
    "puntos_parte_II += 15"
   ]
  },
  {
   "cell_type": "markdown",
   "id": "7920e10b",
   "metadata": {},
   "source": [
    "## Uso de GPT - Total 5 puntos  <a name=\"parte2.3\"></a>\n",
    "\n",
    "\n",
    "**Mostrá una solución (o partes de la misma) dada por ChatGPT a este ejercicio.** (2.5 pts.)"
   ]
  },
  {
   "cell_type": "markdown",
   "id": "4a28b378",
   "metadata": {},
   "source": [
    "# Código dado por ChatGPT\n",
    "\n",
    "Lo hice comparar el código dado por mi compañero vs el mío, lo cual respondió:\n",
    "\n",
    "\"En general, la solución del primer código es más eficiente y elegante, ya que utiliza las funciones de Pandas para filtrar y agrupar los datos y permite cambiar la capitalización de los nombres de usuario sin necesidad de bucles o condiciones adicionales. Sin embargo, la solución del segundo código es una buena alternativa si no se tiene acceso a Pandas o si se prefiere una solución más simple y manual.\"\n",
    "\n",
    "Luego, le dije si podría modificar mi solución para hacerlo de manera más eficiente y utilizando pandas, sin modificar demasiado la estructura de mí código.\n",
    "\n",
    "```\n",
    "import pandas as pd\n",
    "\n",
    "# Accedemos a la ruta donde se encuentra nuestro archivo csv\n",
    "archivo = 'log_catedras.csv'\n",
    "ruta_completa = os.path.abspath(os.path.join('datasets', archivo))\n",
    "\n",
    "def usuarios_sin_entrega(ruta_completa, modo=None):\n",
    "    \"\"\"Retorna listado de usuarios que no vieron la \"Entrega 1\" \"\"\"\n",
    "    # Leemos el archivo csv usando pandas\n",
    "    df = pd.read_csv(ruta_completa)\n",
    "\n",
    "    # Filtramos las filas donde se vio la \"Entrega 1\"\n",
    "    entrega_vista = df[(df[\"Contexto\"] == \"Tarea: Entrega 1\") & (df[\"Evento\"] == \"Se ha visualizado el estado de la entrega.\")]\n",
    "\n",
    "    # Nos guardamos los usuarios totales\n",
    "    usuarios_totales = set(df[\"Usuario\"])\n",
    "\n",
    "    # Nos guardamos los usuarios que vieron la entrega\n",
    "    usuarios_vistos = set(entrega_vista[\"Usuario\"])\n",
    "\n",
    "    # Nos guardamos los usuarios que no vieron la entrega\n",
    "    usuarios_sin_ver = usuarios_totales - usuarios_vistos\n",
    "\n",
    "    # Retornamos según el modo\n",
    "    if modo == 'A':\n",
    "        return [usuario.upper() for usuario in usuarios_sin_ver]\n",
    "    elif modo == 'a':\n",
    "        return [usuario.lower() for usuario in usuarios_sin_ver]\n",
    "    else:\n",
    "        return usuarios_sin_ver\n",
    "    \n",
    "\n",
    "def imprimir_informacion(listado):\n",
    "    \"\"\"Imprime el listado de usuarios en el formato deseado\"\"\"\n",
    "\n",
    "    print(\"---------------------\")\n",
    "    print(\"Usuario en el sistema\")\n",
    "    print(\"---------------------\\n\")\n",
    "    \n",
    "    for usuario in listado:\n",
    "        print(\"-----{}-----\".format(usuario))\n",
    "\n",
    "# Llamamos a la función de usuarios_sin_entrega y le pasamos la ruta completa del archivo y el modo\n",
    "listado_usuarios = usuarios_sin_entrega(ruta_completa, \"a\")\n",
    "\n",
    "# Llamamos a la función de imprimir_informacion para imprimir el listado de usuarios\n",
    "imprimir_informacion(listado_usuarios)\n",
    "\n",
    "\n",
    "```\n",
    "Decidí brindar mi primera resolución y no está para poder mostrar la comparación que obtuve.\n",
    "\n",
    "ChatGPT me parece una herramienta increíble para aprender y agilizar trabajo, lo uso mucho para orientarme y corregirme."
   ]
  },
  {
   "cell_type": "markdown",
   "id": "9caf4a8f",
   "metadata": {},
   "source": [
    "**Respondé:** (2.5pts.)"
   ]
  },
  {
   "cell_type": "markdown",
   "id": "92626791",
   "metadata": {},
   "source": [
    "1. **En la respuesta dada, ¿se incluyen funciones o métodos no dados por la cátedra?** (SI/NO)\n",
    "No"
   ]
  },
  {
   "cell_type": "markdown",
   "id": "18c77963",
   "metadata": {},
   "source": [
    "2. **¿Es entendible el código y la explicación propuesta?** SI/NO (si la respuesta es NO, indicá qué parte no se entiende)\n",
    "Si"
   ]
  },
  {
   "cell_type": "markdown",
   "id": "7ba932f2",
   "metadata": {},
   "source": [
    "3. **Según esta experiencia, ¿podés decir si  el ejercicio que te tocó corregir fue resuelto con la ayuda de ChatGPT? ¿En qué te basás para responder esto?**\n",
    "\n",
    "Depende, ya que no conozco al compañero que realizó el código no tengo forma de saber si realmente tiene el conocimiento o no para realizar el enunciado.\n",
    "\n",
    "Por lo que veo, en la teoría no vimos nada aún sobre la librería 'pandas', pero puede ser que el compañero tengo experiencia o esté recursando.\n",
    "\n",
    "También está la opción de haberle dicho a ChatGPT \"dado este enunciado, dame la resolución más eficiente posible\".\n",
    "No obstante, como ChatGPT no tiene acceso a archivos, no tiene forma de saber el formato del archivo. Mínimamente el alumno debe tener una noción de lo visto para poder modificarlo correctamente."
   ]
  },
  {
   "cell_type": "markdown",
   "id": "ed9fc632",
   "metadata": {},
   "source": [
    "4. **Utilizaste la ayuda de ChatGPT para escribir la solución alternativa?** (SI/NO) Si"
   ]
  },
  {
   "cell_type": "markdown",
   "id": "6eeae749",
   "metadata": {},
   "source": [
    "5. **Si respondiste afirmativamente la respuesta anterior, ¿de qué forma lo usaste?**\n",
    "Posibles respuestas (podés mencionar otras): \n",
    "- \"Lo usé para arrancar, ya que no se me ocurrió otra solución.\"\n",
    "- \"Lo usé para  verificar si lo que había planteado era correcto.\"\n",
    "- \"Lo usé sólo para definir la armar el listado pedido.\"\n",
    "- \"Lo usé sólo para ver cómo procesar el archivo de acuerdo a lo pedido.\"\n",
    "\n",
    "Lo usé para verificar si estaba bien encaminada, si era legible, si había otras formas. Lo usé para pedirle que me hiciera la impresión según lo pedido, luego le pedí más opciones."
   ]
  },
  {
   "cell_type": "code",
   "execution_count": 20,
   "id": "0229a240",
   "metadata": {},
   "outputs": [],
   "source": [
    "# Sumo puntos de la sección - A COMPLETAR POR LA CATEDRA - \n",
    "puntos_parte_II += 5"
   ]
  },
  {
   "cell_type": "markdown",
   "id": "b0ba1701",
   "metadata": {},
   "source": [
    "### Total puntos de la actividad"
   ]
  },
  {
   "cell_type": "code",
   "execution_count": 21,
   "id": "8248b652",
   "metadata": {
    "scrolled": true
   },
   "outputs": [
    {
     "name": "stdout",
     "output_type": "stream",
     "text": [
      "Puntos actividad 1 - Parte II: 40\n"
     ]
    }
   ],
   "source": [
    "print(f\"Puntos actividad 1 - Parte II: {puntos_parte_II if puntos_parte_II >0 else 0}\")"
   ]
  }
 ],
 "metadata": {
  "kernelspec": {
   "display_name": "Python 3 (ipykernel)",
   "language": "python",
   "name": "python3"
  },
  "language_info": {
   "codemirror_mode": {
    "name": "ipython",
    "version": 3
   },
   "file_extension": ".py",
   "mimetype": "text/x-python",
   "name": "python",
   "nbconvert_exporter": "python",
   "pygments_lexer": "ipython3",
   "version": "3.11.3"
  }
 },
 "nbformat": 4,
 "nbformat_minor": 5
}
