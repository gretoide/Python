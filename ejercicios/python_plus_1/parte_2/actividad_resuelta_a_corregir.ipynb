{
 "cells": [
  {
   "cell_type": "markdown",
   "id": "b015a19f",
   "metadata": {
    "id": "b015a19f"
   },
   "source": [
    "# Actividad 1  por Python plus - Parte I \n",
    "\n",
    "## Resolvé el siguiente desafío:"
   ]
  },
  {
   "cell_type": "markdown",
   "id": "14eb10c9",
   "metadata": {
    "id": "14eb10c9"
   },
   "source": [
    "**EJERCICIO 3:** dado el archivo denominado [log_catedras](https://archivos.linti.unlp.edu.ar/index.php/s/ofgZh41dUYMYX6H) que contiene  el registro de  accesos al entorno catedras.linti, se desea:\n",
    "1. Generar una función que retorne los usuarios que nunca vieron el estado de la entrega 1. Esto se puede chequear si la columna \"Contexto del evento\" contiene el texto \"Tarea: Entrega 1\" y la columna \"Nombre evento\" contiene el texto \"Se ha visualizado el estado de la entrega.\". Esta función recibe un parámetro opcional que puede contener: \"A\", para pasar los nombres de usuario  a mayúsculas: \"a\", para pasarlos a mimúsculas o \"None\" si se dejan tal como se encuentran en el archivo. Por defecto la función retorna los nombres tales como aparecen en el archivo. \n",
    "2. Escribir un programa que, utilizando la función anterior, muestre un listado similar al siguiente:\n",
    " \n",
    "```\n",
    "---------------------\n",
    "Usuario en el sistema \n",
    "---------------------\n",
    "\n",
    "-----Butterfree-----\n",
    "------Pikachu-------\n",
    "-------Oddish-------\n",
    "------Kingler-------\n",
    "-------Tauros-------\n",
    "```"
   ]
  },
  {
   "cell_type": "code",
   "execution_count": 1,
   "id": "5021bb7c",
   "metadata": {
    "id": "5021bb7c",
    "outputId": "a4e24e4b-2ba7-4e5f-ada3-eb8cc1e123b0"
   },
   "outputs": [
    {
     "ename": "ModuleNotFoundError",
     "evalue": "No module named 'pandas'",
     "output_type": "error",
     "traceback": [
      "\u001b[0;31m---------------------------------------------------------------------------\u001b[0m",
      "\u001b[0;31mModuleNotFoundError\u001b[0m                       Traceback (most recent call last)",
      "Cell \u001b[0;32mIn[1], line 1\u001b[0m\n\u001b[0;32m----> 1\u001b[0m \u001b[39mimport\u001b[39;00m \u001b[39mpandas\u001b[39;00m \u001b[39mas\u001b[39;00m \u001b[39mpd\u001b[39;00m\n\u001b[1;32m      4\u001b[0m \u001b[39mdef\u001b[39;00m \u001b[39musuarios_not_entrega1\u001b[39m(log_file_path, case\u001b[39m=\u001b[39m\u001b[39m'\u001b[39m\u001b[39mnone\u001b[39m\u001b[39m'\u001b[39m):\n\u001b[1;32m      5\u001b[0m     usuarios \u001b[39m=\u001b[39m pd\u001b[39m.\u001b[39mread_csv(log_file_path)\n",
      "\u001b[0;31mModuleNotFoundError\u001b[0m: No module named 'pandas'"
     ]
    }
   ],
   "source": [
    "import pandas as pd\n",
    "\n",
    "\n",
    "def usuarios_not_entrega1(log_file_path, case='none'):\n",
    "    usuarios = pd.read_csv(log_file_path)\n",
    "\n",
    "    # Desde el archivo reader de csv, crea una lista de comprension de los datos que visualizaron la entrega\n",
    "    entrega_uno = usuarios[(usuarios['Contexto del evento'].str.contains('Tarea: Entrega 1')) &\n",
    "                         (usuarios['Nombre evento'].str.contains('Se ha visualizado el estado de la entrega.'))]\n",
    "    \n",
    "    # Genera una lista con el nombre del usuario que vio la entrega, sin repeticiones en los datos\n",
    "    usuarios_entrega = entrega_uno['Nombre completo del usuario'].unique()\n",
    "\n",
    "\n",
    "    if case == 'a':\n",
    "        usuarios['Nombre completo del usuario'] = usuarios['Nombre completo del usuario'].apply(lambda x: x.lower())\n",
    "        usuarios_entrega= [user.lower() for user in usuarios_entrega]\n",
    "\n",
    "    elif case == 'A':\n",
    "        usuarios['Nombre completo del usuario'] = usuarios['Nombre completo del usuario'].apply(lambda x: x.upper())\n",
    "        usuarios_entrega = [user.upper() for user in usuarios_entrega]\n",
    "    \n",
    "    usuarios_not_entrega = usuarios.groupby('Nombre completo del usuario').apply(lambda x: 'Tarea: Entrega 1' not in x['Contexto del evento'].values or 'Se ha visualizado el estado de la entrega.' not in x['Nombre evento'].values)\n",
    "    usuarios_not_entrega = usuarios_not_entrega[usuarios_not_entrega].index.values\n",
    "\n",
    "    return usuarios_not_entrega\n",
    "\n",
    "# No utiliza os, el archivo podría no estar en la misma carpeta\n",
    "log_file_path = 'log_catedras.csv'\n",
    "case = 'none'  # Opciones: 'none', 'a', 'A'\n",
    "\n",
    "with open(log_file_path, 'r') as f:\n",
    "    users_no_entrega1 = usuarios_not_entrega1(f, case=case)\n",
    "\n",
    "text='Usuario en el sistema'\n",
    "print('-----------------------------------------')\n",
    "print(text.center(30))\n",
    "print('-----------------------------------------')\n",
    "for user in users_no_entrega1:\n",
    "    print(user.center(30,'-'))\n"
   ]
  },
  {
   "cell_type": "code",
   "execution_count": 1,
   "id": "098c4eca",
   "metadata": {},
   "outputs": [
    {
     "name": "stdout",
     "output_type": "stream",
     "text": [
      "/bin/python3.11\n"
     ]
    }
   ],
   "source": [
    "import sys; print(sys.executable)"
   ]
  }
 ],
 "metadata": {
  "colab": {
   "provenance": []
  },
  "kernelspec": {
   "display_name": "Python 3 (ipykernel)",
   "language": "python",
   "name": "python3"
  },
  "language_info": {
   "codemirror_mode": {
    "name": "ipython",
    "version": 3
   },
   "file_extension": ".py",
   "mimetype": "text/x-python",
   "name": "python",
   "nbconvert_exporter": "python",
   "pygments_lexer": "ipython3",
   "version": "3.11.3"
  }
 },
 "nbformat": 4,
 "nbformat_minor": 5
}
